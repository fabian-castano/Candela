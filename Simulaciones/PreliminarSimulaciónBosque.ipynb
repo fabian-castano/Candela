{
 "cells": [
  {
   "cell_type": "code",
   "execution_count": 131,
   "metadata": {},
   "outputs": [],
   "source": [
    "using Random\n",
    "using Plots"
   ]
  },
  {
   "cell_type": "code",
   "execution_count": 143,
   "metadata": {},
   "outputs": [
    {
     "data": {
      "text/plain": [
       "DrawGrid (generic function with 1 method)"
      ]
     },
     "execution_count": 143,
     "metadata": {},
     "output_type": "execute_result"
    }
   ],
   "source": [
    "function DrawGrid(A)\n",
    "    x=1:size(A,1)\n",
    "    y=1:size(A,1)\n",
    "    plt =heatmap(x, y, A)#, clims=(0,1))\n",
    "end"
   ]
  },
  {
   "cell_type": "code",
   "execution_count": 144,
   "metadata": {},
   "outputs": [
    {
     "data": {
      "text/plain": [
       "inicializar (generic function with 2 methods)"
      ]
     },
     "execution_count": 144,
     "metadata": {},
     "output_type": "execute_result"
    }
   ],
   "source": [
    "function inicializar(tam,Rs,S)\n",
    "    Vegetacion=rand(tam,tam).<0.5\n",
    "    Quemados=zeros(tam,tam)\n",
    "    Sensors=[(rand(1:tam),rand(1:tam)) for i in 1:S]\n",
    "    Covered=zeros(tam,tam)\n",
    "\n",
    "    for i in 1:tam,j in 1:tam\n",
    "        for s in Sensors\n",
    "            if (s[1]-i)^2+(s[2]-j)^2<=Rs^2\n",
    "                Covered[i,j]=2\n",
    "            end\n",
    "        end\n",
    "    end\n",
    "    \n",
    "    return Vegetacion, Quemados, Covered\n",
    "end"
   ]
  },
  {
   "cell_type": "code",
   "execution_count": 145,
   "metadata": {},
   "outputs": [
    {
     "data": {
      "text/plain": [
       "RunSimulation (generic function with 1 method)"
      ]
     },
     "execution_count": 145,
     "metadata": {},
     "output_type": "execute_result"
    }
   ],
   "source": [
    "function RunSimulation(Green,Burned,Covered)\n",
    "    xini,yini=rand(1:tam),rand(1:tam)\n",
    "    Burned[xini,yini]=1\n",
    "\n",
    "    coverage=[sum(Burned)/sum(Green)]\n",
    "\n",
    "    detected=[]\n",
    "    tot_det=0\n",
    "    if Covered[xini,yini]==0\n",
    "        push!(detected,tot_det)\n",
    "    else\n",
    "        tot_det=1\n",
    "        push!(detected,tot_det/sum(Green))\n",
    "    end\n",
    "\n",
    "\n",
    "    anim = @animate for rep in 1:100\n",
    "        list_burned=[]\n",
    "        for i in 1:tam,j in 1:tam\n",
    "            if Green[i,j] ==1 && Burned[i,j]==0 && 0<sum([Burned[i1,j1]*(rand()<0.3) for i1 in i-1:i+1 for j1 in j-1:j+1 if i1>0 && i1<=tam && j1>0 && j1< tam])\n",
    "                push!(list_burned,(i,j))\n",
    "            end\n",
    "        end\n",
    "        for e in list_burned\n",
    "            Burned[e[1],e[2]]=1\n",
    "\n",
    "            if Covered[e[1],e[2]]==2\n",
    "                Burned[e[1],e[2]]=0.5\n",
    "                tot_det+=1\n",
    "            end\n",
    "        end\n",
    "\n",
    "        push!(coverage,sum(Burned)/sum(Green))\n",
    "        push!(detected, tot_det/sum(Burned))\n",
    "        DrawGrid(Burned)\n",
    "    end\n",
    "\n",
    "    gif(anim, \"anim_fps15.gif\", fps = 15)  \n",
    "    \n",
    "    println(\"Porcentaje quemado: \",round.(coverage*100;digits=2))\n",
    "    println(\"Porcentaje detectado:6 \",round.(detected*100;digits=2))\n",
    "    return coverage, detected\n",
    "end"
   ]
  },
  {
   "cell_type": "code",
   "execution_count": 148,
   "metadata": {},
   "outputs": [
    {
     "name": "stderr",
     "output_type": "stream",
     "text": [
      "C:\\Users\\fanca\\OneDrive - Pontificia Universidad Javeriana Cali\\Research_Javeriana_cali\\Proyecto_Guadalajara\\anim_fps15.gif: Permission denied\r\n"
     ]
    },
    {
     "ename": "LoadError",
     "evalue": "\u001b[91mfailed process: Process(`\u001b[4m'C:\\Users\\fanca\\.julia\\artifacts\\7350a6401f1c0d38cc3518193083bc4f83adfe99\\bin\\ffmpeg.exe'\u001b[24m \u001b[4m-v\u001b[24m \u001b[4m16\u001b[24m \u001b[4m-framerate\u001b[24m \u001b[4m15\u001b[24m \u001b[4m-i\u001b[24m \u001b[4m'C:\\Users\\fanca\\AppData\\Local\\Temp\\jl_dGJsQT/%06d.png'\u001b[24m \u001b[4m-i\u001b[24m \u001b[4m'C:\\Users\\fanca\\AppData\\Local\\Temp\\jl_dGJsQT/palette.bmp'\u001b[24m \u001b[4m-lavfi\u001b[24m \u001b[4mpaletteuse=dither=sierra2_4a\u001b[24m \u001b[4m-loop\u001b[24m \u001b[4m0\u001b[24m \u001b[4m-y\u001b[24m \u001b[4m'C:\\Users\\fanca\\OneDrive - Pontificia Universidad Javeriana Cali\\Research_Javeriana_cali\\Proyecto_Guadalajara\\anim_fps15.gif'\u001b[24m`, ProcessExited(1)) [1]\u001b[39m\n",
     "output_type": "error",
     "traceback": [
      "\u001b[91mfailed process: Process(`\u001b[4m'C:\\Users\\fanca\\.julia\\artifacts\\7350a6401f1c0d38cc3518193083bc4f83adfe99\\bin\\ffmpeg.exe'\u001b[24m \u001b[4m-v\u001b[24m \u001b[4m16\u001b[24m \u001b[4m-framerate\u001b[24m \u001b[4m15\u001b[24m \u001b[4m-i\u001b[24m \u001b[4m'C:\\Users\\fanca\\AppData\\Local\\Temp\\jl_dGJsQT/%06d.png'\u001b[24m \u001b[4m-i\u001b[24m \u001b[4m'C:\\Users\\fanca\\AppData\\Local\\Temp\\jl_dGJsQT/palette.bmp'\u001b[24m \u001b[4m-lavfi\u001b[24m \u001b[4mpaletteuse=dither=sierra2_4a\u001b[24m \u001b[4m-loop\u001b[24m \u001b[4m0\u001b[24m \u001b[4m-y\u001b[24m \u001b[4m'C:\\Users\\fanca\\OneDrive - Pontificia Universidad Javeriana Cali\\Research_Javeriana_cali\\Proyecto_Guadalajara\\anim_fps15.gif'\u001b[24m`, ProcessExited(1)) [1]\u001b[39m\n",
      "",
      "Stacktrace:",
      " [1] pipeline_error at .\\process.jl:525 [inlined]",
      " [2] run(::Cmd; wait::Bool) at .\\process.jl:440",
      " [3] run at .\\process.jl:438 [inlined]",
      " [4] #4 at C:\\Users\\fanca\\.julia\\packages\\FFMPEG\\aazvf\\src\\FFMPEG.jl:114 [inlined]",
      " [5] #2 at C:\\Users\\fanca\\.julia\\packages\\JLLWrappers\\WnWcZ\\src\\runtime.jl:49 [inlined]",
      " [6] withenv(::JLLWrappers.var\"#2#3\"{FFMPEG.var\"#4#6\"{Cmd},String}, ::Pair{String,String}) at .\\env.jl:161",
      " [7] withenv_executable_wrapper(::FFMPEG.var\"#4#6\"{Cmd}, ::String, ::String, ::String, ::Bool, ::Bool) at C:\\Users\\fanca\\.julia\\packages\\JLLWrappers\\WnWcZ\\src\\runtime.jl:48",
      " [8] #invokelatest#1 at .\\essentials.jl:710 [inlined]",
      " [9] invokelatest at .\\essentials.jl:709 [inlined]",
      " [10] #ffmpeg#7 at C:\\Users\\fanca\\.julia\\packages\\JLLWrappers\\WnWcZ\\src\\products\\executable_generators.jl:7 [inlined]",
      " [11] ffmpeg at C:\\Users\\fanca\\.julia\\packages\\JLLWrappers\\WnWcZ\\src\\products\\executable_generators.jl:7 [inlined]",
      " [12] #exe#2 at C:\\Users\\fanca\\.julia\\packages\\FFMPEG\\aazvf\\src\\FFMPEG.jl:113 [inlined]",
      " [13] ffmpeg_exe at C:\\Users\\fanca\\.julia\\packages\\FFMPEG\\aazvf\\src\\FFMPEG.jl:125 [inlined]",
      " [14] buildanimation(::Animation, ::String, ::Bool; fps::Int64, loop::Int64, variable_palette::Bool, verbose::Bool, show_msg::Bool) at C:\\Users\\fanca\\.julia\\packages\\Plots\\YicDu\\src\\animation.jl:98",
      " [15] #gif#228 at C:\\Users\\fanca\\.julia\\packages\\Plots\\YicDu\\src\\animation.jl:64 [inlined]",
      " [16] RunSimulation(::BitArray{2}, ::Array{Float64,2}, ::Array{Float64,2}) at .\\In[145]:38",
      " [17] top-level scope at In[148]:4",
      " [18] include_string(::Function, ::Module, ::String, ::String) at .\\loading.jl:1091"
     ]
    }
   ],
   "source": [
    "Green,Burned,Covered=inicializar(200,30,10)\n",
    "DrawGrid(Covered+Green) \n",
    "\n",
    "coverage, detected=RunSimulation(Green,Burned,Covered)\n",
    "plot(round.(coverage*100;digits=2))\n",
    "plot!(round.(detected*100;digits=2))"
   ]
  },
  {
   "cell_type": "code",
   "execution_count": null,
   "metadata": {},
   "outputs": [],
   "source": []
  }
 ],
 "metadata": {
  "kernelspec": {
   "display_name": "Julia 1.5.2",
   "language": "julia",
   "name": "julia-1.5"
  },
  "language_info": {
   "file_extension": ".jl",
   "mimetype": "application/julia",
   "name": "julia",
   "version": "1.5.2"
  }
 },
 "nbformat": 4,
 "nbformat_minor": 2
}
