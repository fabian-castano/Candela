{
 "cells": [
  {
   "cell_type": "code",
   "execution_count": 7,
   "id": "76e41b13",
   "metadata": {},
   "outputs": [],
   "source": [
    "using JuMP\n",
    "using Cbc"
   ]
  },
  {
   "cell_type": "code",
   "execution_count": null,
   "id": "13b56cd9",
   "metadata": {},
   "outputs": [],
   "source": [
    "r=1 #radio sensor en cuadrícula\n",
    "tam=20 #tamaño cuadrícula\n",
    "\n",
    "function Matriz_Cubiertos(tam,r)\n",
    "L=1:tam^2\n",
    "M=1:tam^2\n",
    "    \n",
    "L=[(i,j) for j in 1:tam, i in 1:tam]\n",
    "M=[(i,j) for j in 1:tam, i in 1:tam]\n",
    "\n",
    "\n",
    "B=zeros(Int8,tam^2,tam^2)\n",
    "m1=M[m]\n",
    "\n",
    "for l in 1:tam^2\n",
    "    l1=L[l]\n",
    "    for m in 1:tam^2\n",
    "     m1=M[m]\n",
    "     \n",
    "        if ((l1[1]-m1[1])^2 + (l1[2]-m1[2])^2)<=2*r\n",
    "           B[l,m]=1\n",
    "        else\n",
    "        B[l,m]=0\n",
    "        end\n",
    "    \n",
    "    end\n",
    "end\n",
    "    return B\n",
    "end\n",
    "\n",
    "function model(P,B)\n",
    "    \n",
    "modelop=Model(cbc.optimizer)\n",
    "    \n",
    "@variable(modelop,x[L],Bin) #Si en zona l hay un sensor\n",
    "@variable(modelop,y[M,K],Bin) #Si zona m está cubierto en escenario k\n",
    "@variable(modelop,P[M,K],>=0) #Prioridad de monitoreo de zona m en escenario k\n",
    "\n",
    "\n",
    "@constraint(modelop,sum(x[l]*B[l,m] for l in L, m in M)>=y[m,k])\n",
    "\n",
    "@objective(modelop,Max,sum([y[m,k]*P[m,k] for m in M, k in K]))\n",
    "\n",
    "    return x,y\n",
    "end\n",
    "\n",
    "\n",
    "P= Matriz_Cubiertos\n",
    "escenario=[]\n",
    "\n",
    "#k escenarios\n",
    "\n",
    "for i in 1:k\n",
    "\n",
    "    push!(escenario, model(P,B))\n",
    "    \n",
    "end\n",
    "    "
   ]
  }
 ],
 "metadata": {
  "kernelspec": {
   "display_name": "Julia 1.6.2",
   "language": "julia",
   "name": "julia-1.6"
  },
  "language_info": {
   "file_extension": ".jl",
   "mimetype": "application/julia",
   "name": "julia",
   "version": "1.6.2"
  }
 },
 "nbformat": 4,
 "nbformat_minor": 5
}
